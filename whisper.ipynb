{
  "nbformat": 4,
  "nbformat_minor": 0,
  "metadata": {
    "colab": {
      "provenance": [],
      "include_colab_link": true
    },
    "kernelspec": {
      "name": "python3",
      "display_name": "Python 3"
    },
    "language_info": {
      "name": "python"
    },
    "gpuClass": "standard",
    "accelerator": "GPU"
  },
  "cells": [
    {
      "cell_type": "markdown",
      "metadata": {
        "id": "view-in-github",
        "colab_type": "text"
      },
      "source": [
        "<a href=\"https://colab.research.google.com/github/exkuretrol/concat-teams-mp4-and-generate-subtitles/blob/main/whisper.ipynb\" target=\"_parent\"><img src=\"https://colab.research.google.com/assets/colab-badge.svg\" alt=\"Open In Colab\"/></a>"
      ]
    },
    {
      "cell_type": "markdown",
      "source": [
        "### Onedrive 設定\n",
        "\n",
        "下面是連結 Onedrive 的設定，如果是使用 Google Drive 就不需要執行它。\n",
        "\n",
        "詳細設定可以參考：[Mount OneDrive to Google Colab. Hi readers, | by Pratik Mukherjee | Medium](https://medium.com/@pratikmukherjee32/mount-onedrive-to-google-colab-f941a3a96a79)"
      ],
      "metadata": {
        "id": "GwMjuBavR4WV"
      }
    },
    {
      "cell_type": "code",
      "source": [
        "!wget https://downloads.rclone.org/v1.62.2/rclone-v1.62.2-linux-amd64.deb &> /dev/null\n",
        "!apt install ./rclone-v1.62.2-linux-amd64.deb &> /dev/null\n",
        "!sudo mkdir /content/onedrive\n",
        "!sudo apt install fuse3 &> /dev/null"
      ],
      "metadata": {
        "id": "mnX9LEUlVAki"
      },
      "execution_count": 1,
      "outputs": []
    },
    {
      "cell_type": "code",
      "source": [
        "!rclone config"
      ],
      "metadata": {
        "id": "C1Ye5n-6ZM1_"
      },
      "execution_count": null,
      "outputs": []
    },
    {
      "cell_type": "code",
      "source": [
        "!nohup rclone --vfs-cache-mode writes mount onedrive: /content/onedrive &"
      ],
      "metadata": {
        "colab": {
          "base_uri": "https://localhost:8080/"
        },
        "id": "Qq5Gw5NxZ3EO",
        "outputId": "33aa3661-dcd5-4f2a-909b-85a25a2019f4"
      },
      "execution_count": 3,
      "outputs": [
        {
          "output_type": "stream",
          "name": "stdout",
          "text": [
            "nohup: appending output to 'nohup.out'\n"
          ]
        }
      ]
    },
    {
      "cell_type": "markdown",
      "source": [
        "### 依賴套件"
      ],
      "metadata": {
        "id": "MKTyTtWnTCzv"
      }
    },
    {
      "cell_type": "code",
      "source": [
        "!pip install git+https://github.com/openai/whisper.git &> /dev/null\n",
        "\n",
        "import os, re\n",
        "import torch\n",
        "from pathlib import Path\n",
        "\n",
        "import whisper\n",
        "from whisper.utils import get_writer"
      ],
      "metadata": {
        "id": "sqJu-a0nIr2O"
      },
      "execution_count": 4,
      "outputs": []
    },
    {
      "cell_type": "code",
      "source": [
        "#@title 主要設定 { run: \"auto\" }\n",
        "\n",
        "#@markdown 使用的容器，現有的設定有 `gdrive`，Google Drive；`onedrive`，Onedrive；`local`，colab 目前 session 的檔案\n",
        "container = \"onedrive\" #@param [\"gdrive\", \"onedrive\",\"local\"]\n",
        "\n",
        "#@markdown 影片的檔案路徑 \n",
        "filepath = \"/content/onedrive/\\u9298\\u50B3\\u5927\\u5B78/\\u8AB2\\u7A0B\\u9304\\u5F71/\\u7DB2\\u7AD9\\u4F3A\\u670D\\u5668\\u6982\\u8AD6/\\u7DB2\\u7AD9\\u4F3A\\u670D\\u5668\\u6982\\u8AD6-W7.mp4\" #@param {type:\"string\"}\n",
        "\n",
        "#@markdown 影片的語言，中文 `zh` 英文 `en`，其他語言請參閱[whisper/tokenizer.py at main · openai/whisper](https://github.com/openai/whisper/blob/main/whisper/tokenizer.py)\n",
        "lang = \"zh\" #@param {type:\"string\"}\n",
        "\n",
        "#@markdown 是否要產生 .srt 字幕檔\n",
        "srt = True #@param {type:\"boolean\"}\n",
        "\n",
        "#@markdown 是否要產生 .vtt 字幕檔\n",
        "vtt = False #@param {type:\"boolean\"}\n",
        "\n",
        "#@markdown 是否要產生 .tsv 字幕檔\n",
        "tsv = False #@param {type:\"boolean\"}\n",
        "\n",
        "#@markdown 是否要下載產生的字幕檔\n",
        "download = True #@param {type:\"boolean\"}\n",
        "\n",
        "#@markdown 是否要顯示產生字幕的進度\n",
        "verbose = False #@param {type:\"boolean\"}\n",
        "\n",
        "#@markdown 使用的模型，多語系現有的模型有：`tiny`、`base`、`small`、`medium`與`large`；英文語系現有的模型有：`tiny.en`、`base.en`、`small.en`與`medium.en`。請參閱[Available models and languages](https://github.com/openai/whisper#available-models-and-languages)\n",
        "model_type = \"small\" #@param [\"tiny\", \"base\", \"small\", \"medium\", \"large\", \"tiny.en\", \"base.en\", \"small.en\", \"medium.en\"]\n"
      ],
      "metadata": {
        "cellView": "form",
        "id": "z67bDPorGpEB"
      },
      "execution_count": 5,
      "outputs": []
    },
    {
      "cell_type": "code",
      "source": [
        "# Use CUDA, if available\n",
        "DEVICE = \"cuda\" if torch.cuda.is_available() else \"cpu\"\n",
        "\n",
        "# Load the desired model\n",
        "model = whisper.load_model(model_type).to(DEVICE)\n",
        "\n",
        "def transcribe_file(model, lang, file, srt, vtt, tsv, download, verbose):\n",
        "  file_path = Path(file)\n",
        "  print(f\"Transcribing file: {file_path}\\n\")\n",
        "\n",
        "  options = dict(\n",
        "    highlight_words = False,\n",
        "    max_line_width = None,\n",
        "    max_line_count = None\n",
        "  )\n",
        "\n",
        "  output_directory = file_path.parent\n",
        "\n",
        "  # Run Whisper\n",
        "  result = model.transcribe(file, verbose = verbose, language = lang)\n",
        "\n",
        "  if srt:\n",
        "    print(f\"\\nCreating SRT file\")\n",
        "    srt_writer = get_writer(\"srt\", output_directory)\n",
        "    srt_writer(result, str(file_path.stem), options)\n",
        "\n",
        "  if vtt:\n",
        "    print(f\"\\nCreating VTT file\")\n",
        "    vtt_writer = get_writer(\"vtt\", output_directory)\n",
        "    vtt_writer(result, str(file_path.stem), options)\n",
        "\n",
        "  if tsv:\n",
        "    print(f\"\\nCreating TSV file\")\n",
        "\n",
        "    tsv_writer = get_writer(\"tsv\", output_directory)\n",
        "    tsv_writer(result, str(file_path.stem), options)\n",
        "\n",
        "  if download:\n",
        "    from google.colab import files\n",
        "    \n",
        "    stem = file_path.stem\n",
        "\n",
        "    for colab_file in output_directory.glob(f\"{stem}*\"):\n",
        "      if colab_file.suffix in [\".srt\", \".vtt\", \".tsv\"]:\n",
        "        print(f\"Downloading {colab_file}\")\n",
        "        files.download(str(colab_file))\n",
        "    \n",
        "  return result"
      ],
      "metadata": {
        "id": "yw1v9nwGI6l3"
      },
      "execution_count": 12,
      "outputs": []
    },
    {
      "cell_type": "markdown",
      "source": [
        "再開始產生字幕之前請注意，如果是長時間的影片可能會產生到一半就中斷，這時候可以用 Javascript 設定每幾秒自動點擊一次網頁上的元素，藉此維持網頁 session。\n",
        "\n",
        "操作說明如下：\n",
        "\n",
        "1. 打開這個網頁的開發者工具\n",
        "\n",
        "2. 切換到終端機分頁\n",
        "\n",
        "3. 貼上以下的 Javascript\n",
        "\n",
        "> 不過我有看到要手動按的你不是機器人🥲，所以這個方法不一定每次都管用\n",
        "\n",
        "```javascript\n",
        "function KeepClicking() {\n",
        "  console.log(\"Clicking\");\n",
        "  document\n",
        "    .querySelector('#top-toolbar > colab-connect-button')\n",
        "    .shadowRoot.querySelector('#connect')\n",
        "    .click()\n",
        "}\n",
        "setInterval(KeepClicking, 60000)\n",
        "```"
      ],
      "metadata": {
        "id": "5O43nZlXQd1H"
      }
    },
    {
      "cell_type": "code",
      "source": [
        "if container == \"gdrive\":\n",
        "  from google.colab import drive\n",
        "  drive.mount('/content/drive') \n",
        "\n",
        "elif container in (\"onedrive\", \"local\"):\n",
        "  pass\n",
        "\n",
        "result = transcribe_file(model, lang, filepath, srt, vtt, tsv, download, verbose)\n"
      ],
      "metadata": {
        "id": "F9oHpl7-Ltyv",
        "colab": {
          "base_uri": "https://localhost:8080/"
        },
        "outputId": "3a94fef4-8a96-498e-fbc1-9add592d330f"
      },
      "execution_count": 13,
      "outputs": [
        {
          "output_type": "stream",
          "name": "stdout",
          "text": [
            "Transcribing file: /content/onedrive/銘傳大學/課程錄影/網站伺服器概論/網站伺服器概論-W7.mp4\n",
            "\n"
          ]
        },
        {
          "output_type": "stream",
          "name": "stderr",
          "text": [
            " 98%|█████████▊| 780364/792364 [09:47<00:09, 1328.34frames/s]\n"
          ]
        }
      ]
    },
    {
      "cell_type": "code",
      "source": [],
      "metadata": {
        "id": "lk2PKQyHBLsK"
      },
      "execution_count": null,
      "outputs": []
    }
  ]
}